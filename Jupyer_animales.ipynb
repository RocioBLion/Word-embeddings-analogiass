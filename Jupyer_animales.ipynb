{
 "cells": [
  {
   "cell_type": "code",
   "execution_count": 3,
   "metadata": {},
   "outputs": [],
   "source": [
    "# Importación de librerias.\n",
    "import pandas as pd\n",
    "from gensim.models import KeyedVectors\n",
    "import numpy as np\n",
    "import matplotlib.pyplot as plt\n",
    "from itertools import product\n"
   ]
  },
  {
   "cell_type": "code",
   "execution_count": null,
   "metadata": {},
   "outputs": [
    {
     "data": {
      "text/html": [
       "<div>\n",
       "<style scoped>\n",
       "    .dataframe tbody tr th:only-of-type {\n",
       "        vertical-align: middle;\n",
       "    }\n",
       "\n",
       "    .dataframe tbody tr th {\n",
       "        vertical-align: top;\n",
       "    }\n",
       "\n",
       "    .dataframe thead th {\n",
       "        text-align: right;\n",
       "    }\n",
       "</style>\n",
       "<table border=\"1\" class=\"dataframe\">\n",
       "  <thead>\n",
       "    <tr style=\"text-align: right;\">\n",
       "      <th></th>\n",
       "      <th>palabra</th>\n",
       "      <th>hiperonimo</th>\n",
       "    </tr>\n",
       "  </thead>\n",
       "  <tbody>\n",
       "    <tr>\n",
       "      <th>0</th>\n",
       "      <td>hormiga</td>\n",
       "      <td>insecto</td>\n",
       "    </tr>\n",
       "    <tr>\n",
       "      <th>1</th>\n",
       "      <td>castor</td>\n",
       "      <td>roedor</td>\n",
       "    </tr>\n",
       "    <tr>\n",
       "      <th>2</th>\n",
       "      <td>abeja</td>\n",
       "      <td>insecto</td>\n",
       "    </tr>\n",
       "    <tr>\n",
       "      <th>3</th>\n",
       "      <td>bufalo</td>\n",
       "      <td>bovino</td>\n",
       "    </tr>\n",
       "    <tr>\n",
       "      <th>4</th>\n",
       "      <td>mariposa</td>\n",
       "      <td>insecto</td>\n",
       "    </tr>\n",
       "  </tbody>\n",
       "</table>\n",
       "</div>"
      ],
      "text/plain": [
       "    palabra hiperonimo\n",
       "0   hormiga    insecto\n",
       "1    castor     roedor\n",
       "2     abeja    insecto\n",
       "3    bufalo     bovino\n",
       "4  mariposa    insecto"
      ]
     },
     "execution_count": 2,
     "metadata": {},
     "output_type": "execute_result"
    }
   ],
   "source": [
    "hiperonimos_df = pd.read_csv('hiperonimos_animales.csv')\n",
    "hiperonimos_df.head()"
   ]
  },
  {
   "cell_type": "code",
   "execution_count": 14,
   "metadata": {},
   "outputs": [
    {
     "data": {
      "text/html": [
       "<div>\n",
       "<style scoped>\n",
       "    .dataframe tbody tr th:only-of-type {\n",
       "        vertical-align: middle;\n",
       "    }\n",
       "\n",
       "    .dataframe tbody tr th {\n",
       "        vertical-align: top;\n",
       "    }\n",
       "\n",
       "    .dataframe thead th {\n",
       "        text-align: right;\n",
       "    }\n",
       "</style>\n",
       "<table border=\"1\" class=\"dataframe\">\n",
       "  <thead>\n",
       "    <tr style=\"text-align: right;\">\n",
       "      <th></th>\n",
       "      <th>cueEjemplo</th>\n",
       "      <th>targetEjemplo</th>\n",
       "      <th>cue</th>\n",
       "      <th>response</th>\n",
       "    </tr>\n",
       "  </thead>\n",
       "  <tbody>\n",
       "    <tr>\n",
       "      <th>0</th>\n",
       "      <td>hormiga</td>\n",
       "      <td>insecto</td>\n",
       "      <td>castor</td>\n",
       "      <td>roedor</td>\n",
       "    </tr>\n",
       "    <tr>\n",
       "      <th>1</th>\n",
       "      <td>hormiga</td>\n",
       "      <td>insecto</td>\n",
       "      <td>abeja</td>\n",
       "      <td>insecto</td>\n",
       "    </tr>\n",
       "    <tr>\n",
       "      <th>2</th>\n",
       "      <td>hormiga</td>\n",
       "      <td>insecto</td>\n",
       "      <td>bufalo</td>\n",
       "      <td>bovino</td>\n",
       "    </tr>\n",
       "    <tr>\n",
       "      <th>3</th>\n",
       "      <td>hormiga</td>\n",
       "      <td>insecto</td>\n",
       "      <td>mariposa</td>\n",
       "      <td>insecto</td>\n",
       "    </tr>\n",
       "    <tr>\n",
       "      <th>4</th>\n",
       "      <td>hormiga</td>\n",
       "      <td>insecto</td>\n",
       "      <td>gato</td>\n",
       "      <td>felino</td>\n",
       "    </tr>\n",
       "  </tbody>\n",
       "</table>\n",
       "</div>"
      ],
      "text/plain": [
       "  cueEjemplo targetEjemplo       cue response\n",
       "0    hormiga       insecto    castor   roedor\n",
       "1    hormiga       insecto     abeja  insecto\n",
       "2    hormiga       insecto    bufalo   bovino\n",
       "3    hormiga       insecto  mariposa  insecto\n",
       "4    hormiga       insecto      gato   felino"
      ]
     },
     "execution_count": 14,
     "metadata": {},
     "output_type": "execute_result"
    }
   ],
   "source": [
    "def crear_analogias(df):\n",
    "    analogias = []\n",
    "    \n",
    "    # Se itera sobre cada elemento\n",
    "    for i, (cueEjemplo, targetEjemplo) in df.iterrows():\n",
    "        # Para cada cueEjemplo, se itera sobre todos los posibles cues\n",
    "        for j, (cue, response) in df.iterrows():\n",
    "            # Se permiten pares con el mismo hiperónimo\n",
    "            if i != j:  # Evito usar la misma fila para cueEjemplo y cue\n",
    "                analogias.append([cueEjemplo, targetEjemplo, cue, response])\n",
    "    \n",
    "    return pd.DataFrame(analogias, columns=['cueEjemplo', 'targetEjemplo', 'cue', 'response'])\n",
    "\n",
    "# Generamos las analogías\n",
    "analogias_animales_df = crear_analogias(hiperonimos_df)\n",
    "\n",
    "# Definir la ruta del archivo CSV donde se guardarán las analogías\n",
    "output_file_path = './analogias_animales.csv'\n",
    "\n",
    "# Guardo el DataFrame en un archivo CSV\n",
    "analogias_animales_df.to_csv(output_file_path, index=False)\n",
    "\n",
    "analogias_animales_df.head()"
   ]
  },
  {
   "cell_type": "code",
   "execution_count": 13,
   "metadata": {},
   "outputs": [],
   "source": [
    "embeddings_WIKI = KeyedVectors.load_word2vec_format('embeddings/wiki.es.vec', limit=None)\n",
    "embeddings_SUC = KeyedVectors.load_word2vec_format('embeddings/embeddings-l-model.vec', limit=None)\n",
    "embeddings_SWOW = KeyedVectors.load_word2vec_format('embeddings/swow.embedding.was.26-04-2022.vec', limit=None)\n",
    "lower_embeddings_SWOW = KeyedVectors(vector_size=embeddings_SWOW.vector_size)\n",
    "embeddings_SBWC = KeyedVectors.load_word2vec_format('embeddings/SBW-vectors-300-min5.txt', limit=None)\n",
    "embeddings_Glove = KeyedVectors.load_word2vec_format('embeddings/glove-sbwc.i25.vec', limit=None)"
   ]
  },
  {
   "cell_type": "code",
   "execution_count": 16,
   "metadata": {},
   "outputs": [],
   "source": [
    "# Embedding SWOW pasado a minusculas \n",
    "\n",
    "# Vectores y palabras del SWOW.\n",
    "palabras = list(embeddings_SWOW.key_to_index.keys())\n",
    "vectores = list(embeddings_SWOW.vectors)\n",
    "\n",
    "# Convertir todas las palabras a minúsculas.\n",
    "palabras_minusculas = [palabra.lower() for palabra in palabras]\n",
    "\n",
    "# Creación de un nuevo modelo SWOW con las palabras y vectores en minúsculas. \n",
    "lower_embeddings_SWOW = KeyedVectors(vector_size=embeddings_SWOW.vector_size)\n",
    "lower_embeddings_SWOW.add_vectors(palabras_minusculas, vectores)"
   ]
  },
  {
   "cell_type": "code",
   "execution_count": 17,
   "metadata": {},
   "outputs": [],
   "source": [
    "lista_de_Embeddings_2 = [embeddings_WIKI, embeddings_SUC, lower_embeddings_SWOW, embeddings_SBWC, embeddings_Glove]"
   ]
  },
  {
   "cell_type": "code",
   "execution_count": 18,
   "metadata": {},
   "outputs": [],
   "source": [
    "# Filtrar filas que tengan todas las palabras en todos los embeddings\n",
    "\n",
    "# \"all\" combina los valores booleanos de word in e.key_to_index, para todos los embeddings e\n",
    "# luego, se forma un valor para cada fila de cada una de las 4 columnas\n",
    "columns = ['cueEjemplo', 'targetEjemplo','cue','response']\n",
    "filtro = [ [ all(word in e.key_to_index  for e in lista_de_Embeddings_2) for word in analogias_animales_df[column]] for column in columns]\n",
    "# me quedo sólo con las que tienen todas las palabras en todos los embeddings\n",
    "filtro = [a & b & c & d for a,b,c,d in zip(filtro[0],filtro[1],filtro[2],filtro[3])]\n",
    "\n",
    "analogias_animales_df = analogias_animales_df[filtro]"
   ]
  },
  {
   "cell_type": "code",
   "execution_count": 23,
   "metadata": {},
   "outputs": [],
   "source": [
    "palabras_no_encontradas_2 = []  # lista que va a almacenar las palabras no encontradas\n",
    "\n",
    "def calcular_predicciones_hiperonimos(embedding, analogias_animales_df, K_fijo):\n",
    "    predicciones = []  # lista que va a almacenar las predicciones generadas\n",
    "    for index, row in analogias_animales_df.iterrows():  # bucle que itera sobre las filas del df\n",
    "        cueEjemplo = row['cueEjemplo']\n",
    "        targetEjemplo = row['targetEjemplo']  # se extraen las palabras clave de la fila del dataframe\n",
    "        cue = row['cue']\n",
    "\n",
    "        try:\n",
    "            resultado = embedding.most_similar(positive=[cueEjemplo, targetEjemplo, cue], topn=K_fijo)  # se obtienen las palabras más similares\n",
    "            predicciones.append([palabra for palabra, _ in resultado])  # se agregan las palabras similares a la lista de predicciones\n",
    "        except KeyError as e:  # excepción KeyError si alguna de las palabras no está presente en los embeddings\n",
    "            print(f\"Una de las palabras no está en el embedding: {e}\")  # mensaje de advertencia\n",
    "            predicciones.append([])  # se agrega una lista vacía a las predicciones\n",
    "            palabras_no_encontradas_2.append(str(e).split(\"'\")[1])  # se agrega la palabra no encontrada a la lista\n",
    "    return predicciones  # devuelve la lista de predicciones\n",
    "\n",
    "def metricas_topK_hiperonimos(predicciones, analogias_animales_df, K):\n",
    "    analogias_animales_df['response'] = analogias_animales_df['response'].fillna('')  # se llenan los valores nulos en la columna 'response'\n",
    "    analogias_animales_df['response'] = analogias_animales_df['response'].apply(lambda x: str(x))  # chequeamos de que todos los valores sean strings\n",
    "    topK_metricas = []  # lista que va a almacenar las métricas calculadas\n",
    "    for i, prediccion in enumerate(predicciones):  # bucle que itera sobre las predicciones\n",
    "        respuesta_humana = analogias_animales_df.iloc[i]['response'].lower()  # se obtiene la respuesta humana para la analogía actual y se la convierte a minúsculas\n",
    "        topK_metricas.append(int(respuesta_humana in prediccion[0:K]))  # se agrega 1 a la lista si la respuesta humana está en las predicciones, y 0 en caso contrario\n",
    "    return np.mean(topK_metricas)  # devuelve el promedio de la lista topK_metricas, lo que representa la métrica final de precisión top-K\n",
    "\n",
    "# Uso de las funciones con analogias_animales_df\n",
    "# Tendrás que asegurarte de tener una instancia de 'embedding' apropiada creada antes de llamar a calcular_predicciones.\n",
    "# predicciones = calcular_predicciones(tu_embedding, analogias_animales_df, K_fijo)\n",
    "# precision_top_k = metricas_topK(predicciones, analogias_animales_df, K)"
   ]
  },
  {
   "cell_type": "code",
   "execution_count": 26,
   "metadata": {},
   "outputs": [
    {
     "name": "stdout",
     "output_type": "stream",
     "text": [
      "Métricas top-K =[5, 10, 15, 20, 25]: [[0.01098901098901099, 0.016483516483516484, 0.016483516483516484, 0.016483516483516484, 0.016483516483516484], [0.027472527472527472, 0.03296703296703297, 0.04395604395604396, 0.04945054945054945, 0.06593406593406594], [0.0, 0.0, 0.016483516483516484, 0.06593406593406594, 0.11538461538461539], [0.0, 0.0, 0.0, 0.0, 0.0], [0.01098901098901099, 0.038461538461538464, 0.054945054945054944, 0.06043956043956044, 0.09340659340659341]]\n"
     ]
    }
   ],
   "source": [
    "K_fijo = 25\n",
    "todas_predicciones = [calcular_predicciones_hiperonimos(e, analogias_animales_df, K_fijo) for e in lista_de_Embeddings_2] \n",
    "# es una lista de listas, cada lista en todas_predicciones contiene las predicciones generadas para cada embedding en específico\n",
    "# Se itera sobre cada modelo de embedding (e) en lista_de_Embeddings y se llama a la función calcular_predicciones con ese modelo, el df analogias_df y el valor de K_fijo\n",
    "# Se generan predicciones para cada fila en analogias_df utilizando el embedding \n",
    "\n",
    "# en base aun únic cálculo de predicciones, calcular las métricas para diferentes valores de K\n",
    "Ks = [5, 10, 15, 20, 25]\n",
    "topK_metricas_hiperonimos = [[metricas_topK_hiperonimos(prediccion, analogias_animales_df,K)  for K in Ks] for prediccion in todas_predicciones]\n",
    "# lista que almacena las métricas calculadas por metricas_topK para cada conjunto de predicciones en todas_predicciones\n",
    "# Se itera sobre cada conjunto de predicciones en todas_predicciones y se llama a la función metricas_topK con ese conjunto de predicciones y el df analogias_df. \n",
    "# Se calcula la métrica de precisión top-K para cada conjunto de predicciones y devuelve una lista de estas métricas, cada valor representa la precisión top-K para un modelo de embedding específico\n",
    "print(f\"Métricas top-K ={Ks}: {topK_metricas_hiperonimos}\")"
   ]
  },
  {
   "cell_type": "code",
   "execution_count": 29,
   "metadata": {},
   "outputs": [
    {
     "data": {
      "image/png": "[encoded data removed]",
      "text/plain": [
       "<Figure size 864x432 with 1 Axes>"
      ]
     },
     "metadata": {
      "needs_background": "light"
     },
     "output_type": "display_data"
    }
   ],
   "source": [
    "# Nombres de embeddings\n",
    "lista_de_Nombres = [\"WIKI\", \"SUC\", \"SWOW\", \"SBWC\", \"Glove\"]\n",
    "\n",
    "# Colores para plotear\n",
    "colors = ['red', 'orange','purple', 'black', 'pink']\n",
    "\n",
    "\n",
    "# marcadores para usar\n",
    "markers = ['o', '^', 's','+','x']  # Markers for each category\n",
    "\n",
    "# numero de embeddings\n",
    "num_embeddings = len(lista_de_Nombres)\n",
    "\n",
    "#width = 0.2\n",
    "\n",
    "# Crear la figura para los datos del valor de K fijo\n",
    "fig, ax = plt.subplots(figsize=(12, 6))\n",
    "\n",
    "# valores de x para cada barra\n",
    "x = np.arange(num_embeddings)\n",
    "\n",
    "#bar = ax.bar(x, data_fijo, width, color='pink', edgecolor='black')\n",
    "for i, emb in enumerate(lista_de_Nombres):\n",
    "    plt.plot(Ks, topK_metricas_hiperonimos[i], color=colors[i], label=lista_de_Nombres[i],marker=markers[i])\n",
    "\n",
    "\n",
    "# Etiquetas \n",
    "ax.set_xlabel('Valores de K', fontsize=14)\n",
    "ax.set_ylabel('Valor de Métrica TopK', fontsize=14)\n",
    "ax.set_title(f'Métricas topK para Hiperonimos - Animales', fontsize=16)\n",
    "#ax.set_xticks(x)\n",
    "#ax.set_xticklabels(lista_de_Nombres, rotation=45, fontsize=12)\n",
    "\n",
    "# Limitar el eje y entre 0 y .6\n",
    "ax.set_ylim([0, .6])\n",
    "\n",
    "ax.grid(True, which='both', axis='y', linestyle='--', linewidth=0.5)\n",
    "ax.tick_params(axis='both', labelsize=14)\n",
    "\n",
    "plt.tight_layout()\n",
    "plt.legend()\n",
    "plt.show()"
   ]
  }
 ],
 "metadata": {
  "kernelspec": {
   "display_name": "Python 3",
   "language": "python",
   "name": "python3"
  },
  "language_info": {
   "codemirror_mode": {
    "name": "ipython",
    "version": 3
   },
   "file_extension": ".py",
   "mimetype": "text/x-python",
   "name": "python",
   "nbconvert_exporter": "python",
   "pygments_lexer": "ipython3",
   "version": "3.10.7"
  }
 },
 "nbformat": 4,
 "nbformat_minor": 2
}
