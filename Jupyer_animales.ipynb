{
 "cells": [
  {
   "cell_type": "code",
   "execution_count": null,
   "metadata": {},
   "outputs": [],
   "source": [
    "# Importación de librerias.\n",
    "import pandas as pd\n",
    "from gensim.models import KeyedVectors\n",
    "import numpy as np\n",
    "import matplotlib.pyplot as plt"
   ]
  },
  {
   "cell_type": "code",
   "execution_count": null,
   "metadata": {},
   "outputs": [],
   "source": [
    "hiperonimos_df = pd.read_csv('hiperonimos_animales.csv')\n",
    "hiperonimos_df.head()"
   ]
  },
  {
   "cell_type": "code",
   "execution_count": null,
   "metadata": {},
   "outputs": [],
   "source": [
    "embeddings_WIKI = KeyedVectors.load_word2vec_format('embeddings/wiki.es.vec', limit=None)\n",
    "embeddings_SUC = KeyedVectors.load_word2vec_format('embeddings/embeddings-l-model.vec', limit=None)\n",
    "embeddings_SWOW = KeyedVectors.load_word2vec_format('embeddings/swow.embedding.was.26-04-2022.vec', limit=None)\n",
    "lower_embeddings_SWOW = KeyedVectors(vector_size=embeddings_SWOW.vector_size)\n",
    "embeddings_SBWC = KeyedVectors.load_word2vec_format('embeddings/SBW-vectors-300-min5.txt', limit=None)\n",
    "embeddings_Glove = KeyedVectors.load_word2vec_format('embeddings/glove-sbwc.i25.vec', limit=None)"
   ]
  },
  {
   "cell_type": "code",
   "execution_count": null,
   "metadata": {},
   "outputs": [],
   "source": [
    "# Embedding SWOW pasado a minusculas \n",
    "\n",
    "# Vectores y palabras del SWOW.\n",
    "palabras = list(embeddings_SWOW.key_to_index.keys())\n",
    "vectores = list(embeddings_SWOW.vectors)\n",
    "\n",
    "# Convertir todas las palabras a minúsculas.\n",
    "palabras_minusculas = [palabra.lower() for palabra in palabras]\n",
    "\n",
    "# Creación de un nuevo modelo SWOW con las palabras y vectores en minúsculas. \n",
    "lower_embeddings_SWOW = KeyedVectors(vector_size=embeddings_SWOW.vector_size)\n",
    "lower_embeddings_SWOW.add_vectors(palabras_minusculas, vectores)"
   ]
  },
  {
   "cell_type": "code",
   "execution_count": null,
   "metadata": {},
   "outputs": [],
   "source": [
    "lista_de_Embeddings = [embeddings_WIKI, embeddings_SUC, lower_embeddings_SWOW, embeddings_SBWC, embeddings_Glove]"
   ]
  },
  {
   "cell_type": "code",
   "execution_count": null,
   "metadata": {},
   "outputs": [],
   "source": [
    "# Filtrado de palabras en todos los embeddings\n",
    "hiperonimos_df = hiperonimos_df.dropna()\n",
    "filtro_palabra = [all(word in e.key_to_index for e in lista_de_Embeddings) for word in hiperonimos_df['palabra']]\n",
    "filtro_hiperonimo = [all(word in e.key_to_index for e in lista_de_Embeddings) for word in hiperonimos_df['hiperonimo']]\n",
    "\n",
    "# Combinando ambos filtros\n",
    "filtro = [a and b for a, b in zip(filtro_palabra, filtro_hiperonimo)]\n",
    "\n",
    "hiperonimos_df = hiperonimos_df[filtro]"
   ]
  },
  {
   "cell_type": "code",
   "execution_count": null,
   "metadata": {},
   "outputs": [],
   "source": [
    "palabras_no_encontradas2 = []\n",
    "\n",
    "def calcular_predicciones_hiperonimos(embedding, hiperonimos_df, K_fijo):\n",
    "    predicciones = []\n",
    "    for index, row in hiperonimos_df.iterrows():\n",
    "        palabra = row['palabra']\n",
    "\n",
    "        try:\n",
    "            resultado = embedding.most_similar(positive=[palabra], topn=K_fijo)\n",
    "            predicciones.append([palabra for palabra, _ in resultado])\n",
    "        except KeyError as e:\n",
    "            print(f\"Una de las palabras no está en el embedding: {e}\")\n",
    "            predicciones.append([])\n",
    "            if palabra not in palabras_no_encontradas2:\n",
    "                palabras_no_encontradas2.append(palabra)\n",
    "    return predicciones\n"
   ]
  },
  {
   "cell_type": "code",
   "execution_count": null,
   "metadata": {},
   "outputs": [],
   "source": [
    "def metricas_topK_hiperonimos(predicciones, hiperonimos_df, K):\n",
    "    topK_metricas = []\n",
    "    for i, prediccion in enumerate(predicciones):\n",
    "        hiperonimo_real = hiperonimos_df.iloc[i]['hiperonimo'].lower()\n",
    "        topK_metricas.append(int(hiperonimo_real in prediccion[0:K]))\n",
    "    return np.mean(topK_metricas)\n"
   ]
  },
  {
   "cell_type": "code",
   "execution_count": null,
   "metadata": {},
   "outputs": [],
   "source": [
    "todas_predicciones_hiperonimos = [calcular_predicciones_hiperonimos(e, hiperonimos_df, K_fijo) for e in lista_de_Embeddings]\n",
    "\n",
    "topK_metricas_hiperonimos = [[metricas_topK_hiperonimos(prediccion, hiperonimos_df, K) for K in Ks] for prediccion in todas_predicciones_hiperonimos]\n",
    "\n",
    "print(f\"Métricas top-K ={Ks}: {topK_metricas_hiperonimos}\")"
   ]
  }
 ],
 "metadata": {
  "language_info": {
   "name": "python"
  }
 },
 "nbformat": 4,
 "nbformat_minor": 2
}
