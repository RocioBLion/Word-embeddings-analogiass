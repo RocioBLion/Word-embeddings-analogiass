{
 "cells": [
  {
   "cell_type": "code",
   "execution_count": 1,
   "metadata": {},
   "outputs": [
    {
     "data": {
      "text/html": [
       "<div>\n",
       "<style scoped>\n",
       "    .dataframe tbody tr th:only-of-type {\n",
       "        vertical-align: middle;\n",
       "    }\n",
       "\n",
       "    .dataframe tbody tr th {\n",
       "        vertical-align: top;\n",
       "    }\n",
       "\n",
       "    .dataframe thead th {\n",
       "        text-align: right;\n",
       "    }\n",
       "</style>\n",
       "<table border=\"1\" class=\"dataframe\">\n",
       "  <thead>\n",
       "    <tr style=\"text-align: right;\">\n",
       "      <th></th>\n",
       "      <th>cueEjemplo</th>\n",
       "      <th>targetEjemplo</th>\n",
       "      <th>cue</th>\n",
       "      <th>response</th>\n",
       "      <th>count</th>\n",
       "      <th>rank</th>\n",
       "      <th>porcentaje</th>\n",
       "    </tr>\n",
       "  </thead>\n",
       "  <tbody>\n",
       "    <tr>\n",
       "      <th>0</th>\n",
       "      <td>Argentina</td>\n",
       "      <td>Buenos Aires</td>\n",
       "      <td>Brasil</td>\n",
       "      <td>brasilia</td>\n",
       "      <td>87.0</td>\n",
       "      <td>1.0</td>\n",
       "      <td>90.625000</td>\n",
       "    </tr>\n",
       "    <tr>\n",
       "      <th>1</th>\n",
       "      <td>Brasil</td>\n",
       "      <td>samba</td>\n",
       "      <td>Cuba</td>\n",
       "      <td>salsa</td>\n",
       "      <td>57.0</td>\n",
       "      <td>1.0</td>\n",
       "      <td>60.000000</td>\n",
       "    </tr>\n",
       "    <tr>\n",
       "      <th>2</th>\n",
       "      <td>Francia</td>\n",
       "      <td>París</td>\n",
       "      <td>Estados Unidos</td>\n",
       "      <td>washington</td>\n",
       "      <td>92.0</td>\n",
       "      <td>1.0</td>\n",
       "      <td>49.729730</td>\n",
       "    </tr>\n",
       "    <tr>\n",
       "      <th>3</th>\n",
       "      <td>París</td>\n",
       "      <td>Francia</td>\n",
       "      <td>Roma</td>\n",
       "      <td>italia</td>\n",
       "      <td>77.0</td>\n",
       "      <td>1.0</td>\n",
       "      <td>93.902439</td>\n",
       "    </tr>\n",
       "    <tr>\n",
       "      <th>4</th>\n",
       "      <td>China</td>\n",
       "      <td>Asia</td>\n",
       "      <td>Rusia</td>\n",
       "      <td>eurasia</td>\n",
       "      <td>38.0</td>\n",
       "      <td>1.0</td>\n",
       "      <td>37.254902</td>\n",
       "    </tr>\n",
       "  </tbody>\n",
       "</table>\n",
       "</div>"
      ],
      "text/plain": [
       "  cueEjemplo targetEjemplo             cue    response  count  rank  \\\n",
       "0  Argentina  Buenos Aires          Brasil    brasilia   87.0   1.0   \n",
       "1     Brasil         samba            Cuba       salsa   57.0   1.0   \n",
       "2    Francia         París  Estados Unidos  washington   92.0   1.0   \n",
       "3      París       Francia            Roma      italia   77.0   1.0   \n",
       "4      China          Asia           Rusia     eurasia   38.0   1.0   \n",
       "\n",
       "   porcentaje  \n",
       "0   90.625000  \n",
       "1   60.000000  \n",
       "2   49.729730  \n",
       "3   93.902439  \n",
       "4   37.254902  "
      ]
     },
     "execution_count": 1,
     "metadata": {},
     "output_type": "execute_result"
    }
   ],
   "source": [
    "# Importación de librerias.\n",
    "import pandas as pd\n",
    "from gensim.models import KeyedVectors\n",
    "import numpy as np\n",
    "import matplotlib.pyplot as plt\n",
    "\n",
    "# Carga del dataset. \n",
    "analogias_df = pd.read_csv('analogies_answers.csv')\n",
    "analogias_df.head()"
   ]
  },
  {
   "cell_type": "code",
   "execution_count": 5,
   "metadata": {},
   "outputs": [],
   "source": [
    "# Embeddings utilizados.\n",
    "embeddings_WIKI = KeyedVectors.load_word2vec_format('embeddings/wiki.es.vec', limit=None)\n",
    "embeddings_SUC = KeyedVectors.load_word2vec_format('embeddings/embeddings-l-model.vec', limit=None)\n",
    "embeddings_SWOW = KeyedVectors.load_word2vec_format('embeddings/swow.embedding.was.26-04-2022.vec', limit=None)\n",
    "lower_embeddings_SWOW = KeyedVectors(vector_size=embeddings_SWOW.vector_size)\n",
    "embeddings_SBWC = KeyedVectors.load_word2vec_format('embeddings/SBW-vectors-300-min5.txt', limit=None)\n",
    "embeddings_Glove = KeyedVectors.load_word2vec_format('embeddings/glove-sbwc.i25.vec', limit=None)"
   ]
  },
  {
   "cell_type": "code",
   "execution_count": 3,
   "metadata": {},
   "outputs": [],
   "source": [
    "# Embedding SWOW pasado a minusculas \n",
    "\n",
    "# Vectores y palabras del SWOW.\n",
    "palabras = list(embeddings_SWOW.key_to_index.keys())\n",
    "vectores = list(embeddings_SWOW.vectors)\n",
    "\n",
    "# Convertir todas las palabras a minúsculas.\n",
    "palabras_minusculas = [palabra.lower() for palabra in palabras]\n",
    "\n",
    "# Creación de un nuevo modelo SWOW con las palabras y vectores en minúsculas. \n",
    "lower_embeddings_SWOW = KeyedVectors(vector_size=embeddings_SWOW.vector_size)\n",
    "lower_embeddings_SWOW.add_vectors(palabras_minusculas, vectores)"
   ]
  },
  {
   "cell_type": "code",
   "execution_count": 6,
   "metadata": {},
   "outputs": [],
   "source": [
    "# Listado de los embeddings utilizados. \n",
    "lista_de_Embeddings = [embeddings_WIKI, embeddings_SUC, lower_embeddings_SWOW, embeddings_SBWC, embeddings_Glove]\n",
    "#lista_de_Embeddings = [embeddings_WIKI, embeddings_SUC, lower_embeddings_SWOW, embeddings_SBWC, embeddings_Glove"
   ]
  },
  {
   "cell_type": "code",
   "execution_count": 7,
   "metadata": {},
   "outputs": [],
   "source": [
    "# Calculo de la frecuencia de las combinaciones de 'cue' y 'response' y sus rangos para identificar las analogías más relevantes\n",
    "analogias_df['count'] = analogias_df.groupby(['cue','response'])['response'].transform('count')\n",
    "analogias_df['rank'] = analogias_df.groupby('cue')['count'].rank(ascending=False, method='min')\n",
    "\n",
    "# Calculo del porcentaje de frecuencia de cada combinación en relación con el número total de respuestas para ese 'cue'.\n",
    "total_respuestas = analogias_df.groupby('cue')['response'].transform('count')\n",
    "analogias_df['porcentaje'] = (analogias_df['count'] / total_respuestas) * 100\n",
    "\n",
    "# Indices de filas que tienen rango minimo (rango 1).\n",
    "idx = analogias_df.groupby(['cue'])['rank'].idxmin()\n",
    "\n",
    "# Me quedo unicamente con las filas que tienen las combinaciones más relevantes según el rango.\n",
    "analogias_df = analogias_df.loc[idx]\n",
    "\n",
    "# Se guarda el DataFrame modificado en un archivo CSV.\n",
    "analogias_df.to_csv('analogies_answers.csv', index=False)\n",
    "\n",
    "# Se pasan todas las palabras a minúsculas. \n",
    "analogias_df['cueEjemplo'] = analogias_df['cueEjemplo'].apply(lambda x: str(x).lower())\n",
    "analogias_df['targetEjemplo'] = analogias_df['targetEjemplo'].apply(lambda x: str(x).lower())\n",
    "analogias_df['cue'] = analogias_df['cue'].apply(lambda x: str(x).lower())\n",
    "\n",
    "# Se realizan los reemplazos necesarios. \n",
    "analogias_df['cueEjemplo'] = analogias_df['cueEjemplo'].str.replace('lápiz labial', 'labial').replace('estados unidos', 'eeuu').replace('buenos aires', 'bsas')\n",
    "analogias_df['targetEjemplo'] = analogias_df['targetEjemplo'].str.replace('lápiz labial', 'labial').replace('estados unidos', 'eeuu').replace('buenos aires', 'bsas')\n",
    "analogias_df['cue'] = analogias_df['cue'].str.replace('lápiz labial', 'labial').replace('estados unidos', 'eeuu').replace('buenos aires', 'bsas')\n"
   ]
  },
  {
   "cell_type": "code",
   "execution_count": null,
   "metadata": {},
   "outputs": [],
   "source": [
    "from mis_funciones import metricas_topK, calcular_predicciones\n",
    "\n",
    "K_fijo = 25\n",
    "todas_predicciones = [calcular_predicciones(e, analogias_df, K_fijo) for e in lista_de_Embeddings] \n",
    "# es una lista de listas, cada lista en todas_predicciones contiene las predicciones generadas para cada embedding en específico\n",
    "# Se itera sobre cada modelo de embedding (e) en lista_de_Embeddings y se llama a la función calcular_predicciones con ese modelo, el df analogias_df y el valor de K_fijo\n",
    "# Se generan predicciones para cada fila en analogias_df utilizando el embedding \n",
    "\n",
    "\n",
    "topK_metricas = [metricas_topK(prediccion, analogias_df) for prediccion in todas_predicciones] \n",
    "# lista que almacena las métricas calculadas por metricas_topK para cada conjunto de predicciones en todas_predicciones\n",
    "# Se itera sobre cada conjunto de predicciones en todas_predicciones y se llama a la función metricas_topK con ese conjunto de predicciones y el df analogias_df. \n",
    "# Se calcula la métrica de precisión top-K para cada conjunto de predicciones y devuelve una lista de estas métricas, cada valor representa la precisión top-K para un modelo de embedding específico\n",
    "\n",
    "print(f\"Métricas top-K para K={K_fijo}: {topK_metricas}\")"
   ]
  },
  {
   "cell_type": "code",
   "execution_count": null,
   "metadata": {},
   "outputs": [
    {
     "data": {
      "image/png": "[encoded data removed]",
      "text/plain": [
       "<Figure size 864x432 with 1 Axes>"
      ]
     },
     "metadata": {
      "needs_background": "light"
     },
     "output_type": "display_data"
    }
   ],
   "source": [
    "# datos para el valor de K fijo\n",
    "data_fijo = topK_metricas_fijo\n",
    "\n",
    "# Nombres de embeddings\n",
    "lista_de_Nombres = [\"WIKI\", \"SUC\", \"SWOW\", \"SBWC\", \"Glove\"]\n",
    "\n",
    "# numero de embeddings\n",
    "num_embeddings = len(lista_de_Nombres)\n",
    "\n",
    "width = 0.2\n",
    "\n",
    "# Crear la figura para los datos del valor de K fijo\n",
    "fig, ax = plt.subplots(figsize=(12, 6))\n",
    "\n",
    "# valores de x para cada barra\n",
    "x = np.arange(num_embeddings)\n",
    "\n",
    "bar = ax.bar(x, data_fijo, width, color='pink', edgecolor='black')\n",
    "\n",
    "# Etiquetas \n",
    "ax.set_xlabel('Embeddings', fontsize=14)\n",
    "ax.set_ylabel('Valor de Métrica TopK', fontsize=14)\n",
    "ax.set_title(f'Métricas topK para K_fijo={K_fijo}', fontsize=16)\n",
    "ax.set_xticks(x)\n",
    "ax.set_xticklabels(lista_de_Nombres, rotation=45, fontsize=12)\n",
    "\n",
    "# Limitar el eje y entre 0 y 1\n",
    "ax.set_ylim([0, 1])\n",
    "\n",
    "ax.grid(True, which='both', axis='y', linestyle='--', linewidth=0.5)\n",
    "ax.tick_params(axis='both', labelsize=12)\n",
    "\n",
    "plt.tight_layout()\n",
    "plt.show()\n"
   ]
  }
 ],
 "metadata": {
  "kernelspec": {
   "display_name": "Python 3 (ipykernel)",
   "language": "python",
   "name": "python3"
  },
  "language_info": {
   "codemirror_mode": {
    "name": "ipython",
    "version": 3
   },
   "file_extension": ".py",
   "mimetype": "text/x-python",
   "name": "python",
   "nbconvert_exporter": "python",
   "pygments_lexer": "ipython3",
   "version": "3.10.11"
  }
 },
 "nbformat": 4,
 "nbformat_minor": 2
}
