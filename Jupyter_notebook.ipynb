{
 "cells": [
  {
   "cell_type": "code",
   "execution_count": 1,
   "metadata": {},
   "outputs": [
    {
     "data": {
      "text/html": [
       "<div>\n",
       "<style scoped>\n",
       "    .dataframe tbody tr th:only-of-type {\n",
       "        vertical-align: middle;\n",
       "    }\n",
       "\n",
       "    .dataframe tbody tr th {\n",
       "        vertical-align: top;\n",
       "    }\n",
       "\n",
       "    .dataframe thead th {\n",
       "        text-align: right;\n",
       "    }\n",
       "</style>\n",
       "<table border=\"1\" class=\"dataframe\">\n",
       "  <thead>\n",
       "    <tr style=\"text-align: right;\">\n",
       "      <th></th>\n",
       "      <th>cueEjemplo</th>\n",
       "      <th>targetEjemplo</th>\n",
       "      <th>cue</th>\n",
       "      <th>response</th>\n",
       "      <th>count</th>\n",
       "      <th>rank</th>\n",
       "      <th>porcentaje</th>\n",
       "    </tr>\n",
       "  </thead>\n",
       "  <tbody>\n",
       "    <tr>\n",
       "      <th>0</th>\n",
       "      <td>bailarín</td>\n",
       "      <td>bailar</td>\n",
       "      <td>albañil</td>\n",
       "      <td>construir</td>\n",
       "      <td>1</td>\n",
       "      <td>1.0</td>\n",
       "      <td>100.0</td>\n",
       "    </tr>\n",
       "    <tr>\n",
       "      <th>1</th>\n",
       "      <td>pistola</td>\n",
       "      <td>bala</td>\n",
       "      <td>arco</td>\n",
       "      <td>flecha</td>\n",
       "      <td>1</td>\n",
       "      <td>1.0</td>\n",
       "      <td>100.0</td>\n",
       "    </tr>\n",
       "    <tr>\n",
       "      <th>2</th>\n",
       "      <td>picnic</td>\n",
       "      <td>parque</td>\n",
       "      <td>asado</td>\n",
       "      <td>parrillero</td>\n",
       "      <td>1</td>\n",
       "      <td>1.0</td>\n",
       "      <td>100.0</td>\n",
       "    </tr>\n",
       "    <tr>\n",
       "      <th>3</th>\n",
       "      <td>pirámide</td>\n",
       "      <td>momia</td>\n",
       "      <td>ataúd</td>\n",
       "      <td>cadáver</td>\n",
       "      <td>1</td>\n",
       "      <td>1.0</td>\n",
       "      <td>100.0</td>\n",
       "    </tr>\n",
       "    <tr>\n",
       "      <th>4</th>\n",
       "      <td>tren</td>\n",
       "      <td>vías</td>\n",
       "      <td>auto</td>\n",
       "      <td>carretera</td>\n",
       "      <td>1</td>\n",
       "      <td>1.0</td>\n",
       "      <td>100.0</td>\n",
       "    </tr>\n",
       "  </tbody>\n",
       "</table>\n",
       "</div>"
      ],
      "text/plain": [
       "  cueEjemplo targetEjemplo      cue    response  count  rank  porcentaje\n",
       "0   bailarín        bailar  albañil   construir      1   1.0       100.0\n",
       "1    pistola          bala     arco      flecha      1   1.0       100.0\n",
       "2     picnic        parque    asado  parrillero      1   1.0       100.0\n",
       "3   pirámide         momia    ataúd     cadáver      1   1.0       100.0\n",
       "4       tren          vías     auto   carretera      1   1.0       100.0"
      ]
     },
     "execution_count": 1,
     "metadata": {},
     "output_type": "execute_result"
    }
   ],
   "source": [
    "# Importación de librerias.\n",
    "import pandas as pd\n",
    "from gensim.models import KeyedVectors\n",
    "import numpy as np\n",
    "import matplotlib.pyplot as plt\n",
    "\n",
    "# Carga del dataset. \n",
    "analogias_df = pd.read_csv('analogies_answers.csv')\n",
    "analogias_df.head()"
   ]
  },
  {
   "cell_type": "code",
   "execution_count": 2,
   "metadata": {},
   "outputs": [],
   "source": [
    "# Embeddings utilizados.\n",
    "embeddings_WIKI = KeyedVectors.load_word2vec_format('embeddings/wiki.es.vec', limit=None)\n",
    "embeddings_SUC = KeyedVectors.load_word2vec_format('embeddings/embeddings-l-model.vec', limit=None)\n",
    "embeddings_SWOW = KeyedVectors.load_word2vec_format('embeddings/swow.embedding.was.26-04-2022.vec', limit=None)\n",
    "lower_embeddings_SWOW = KeyedVectors(vector_size=embeddings_SWOW.vector_size)\n",
    "embeddings_SBWC = KeyedVectors.load_word2vec_format('embeddings/SBW-vectors-300-min5.txt', limit=None)\n",
    "embeddings_Glove = KeyedVectors.load_word2vec_format('embeddings/glove-sbwc.i25.vec', limit=None)"
   ]
  },
  {
   "cell_type": "code",
   "execution_count": null,
   "metadata": {},
   "outputs": [],
   "source": []
  },
  {
   "cell_type": "code",
   "execution_count": 3,
   "metadata": {},
   "outputs": [],
   "source": [
    "# Embedding SWOW pasado a minusculas \n",
    "\n",
    "# Vectores y palabras del SWOW.\n",
    "palabras = list(embeddings_SWOW.key_to_index.keys())\n",
    "vectores = list(embeddings_SWOW.vectors)\n",
    "\n",
    "# Convertir todas las palabras a minúsculas.\n",
    "palabras_minusculas = [palabra.lower() for palabra in palabras]\n",
    "\n",
    "# Creación de un nuevo modelo SWOW con las palabras y vectores en minúsculas. \n",
    "lower_embeddings_SWOW = KeyedVectors(vector_size=embeddings_SWOW.vector_size)\n",
    "lower_embeddings_SWOW.add_vectors(palabras_minusculas, vectores)"
   ]
  },
  {
   "cell_type": "code",
   "execution_count": 4,
   "metadata": {},
   "outputs": [],
   "source": [
    "# Listado de los embeddings utilizados. \n",
    "#lista_de_Embeddings = [embeddings_WIKI, embeddings_SUC, lower_embeddings_SWOW, embeddings_SBWC, embeddings_Glove]\n",
    "#lista_de_Embeddings = [lower_embeddings_SWOW, embeddings_Glove]\n",
    "lista_de_Embeddings = [embeddings_WIKI, embeddings_SUC, lower_embeddings_SWOW, embeddings_SBWC, embeddings_Glove"
   ]
  },
  {
   "cell_type": "code",
   "execution_count": 5,
   "metadata": {},
   "outputs": [],
   "source": [
    "# Calculo de la frecuencia de las combinaciones de 'cue' y 'response' y sus rangos para identificar las analogías más relevantes\n",
    "analogias_df['count'] = analogias_df.groupby(['cue','response'])['response'].transform('count')\n",
    "analogias_df['rank'] = analogias_df.groupby('cue')['count'].rank(ascending=False, method='min')\n",
    "\n",
    "# Calculo del porcentaje de frecuencia de cada combinación en relación con el número total de respuestas para ese 'cue'.\n",
    "total_respuestas = analogias_df.groupby('cue')['response'].transform('count')\n",
    "analogias_df['porcentaje'] = (analogias_df['count'] / total_respuestas) * 100\n",
    "\n",
    "# Indices de filas que tienen rango minimo (rango 1).\n",
    "idx = analogias_df.groupby(['cue'])['rank'].idxmin()\n",
    "\n",
    "# Me quedo unicamente con las filas que tienen las combinaciones más relevantes según el rango.\n",
    "analogias_df = analogias_df.loc[idx]\n",
    "\n",
    "# Se guarda el DataFrame modificado en un archivo CSV.\n",
    "analogias_df.to_csv('analogies_answers.csv', index=False)\n",
    "\n",
    "# Se pasan todas las palabras a minúsculas. \n",
    "analogias_df['cueEjemplo'] = analogias_df['cueEjemplo'].apply(lambda x: str(x).lower())\n",
    "analogias_df['targetEjemplo'] = analogias_df['targetEjemplo'].apply(lambda x: str(x).lower())\n",
    "analogias_df['cue'] = analogias_df['cue'].apply(lambda x: str(x).lower())\n",
    "\n",
    "# Se realizan los reemplazos necesarios. \n",
    "analogias_df['cueEjemplo'] = analogias_df['cueEjemplo'].str.replace('lápiz labial', 'labial').replace('estados unidos', 'eeuu').replace('buenos aires', 'bsas')\n",
    "analogias_df['targetEjemplo'] = analogias_df['targetEjemplo'].str.replace('lápiz labial', 'labial').replace('estados unidos', 'eeuu').replace('buenos aires', 'bsas')\n",
    "analogias_df['cue'] = analogias_df['cue'].str.replace('lápiz labial', 'labial').replace('estados unidos', 'eeuu').replace('buenos aires', 'bsas')\n"
   ]
  },
  {
   "cell_type": "markdown",
   "metadata": {},
   "source": [
    "## Filtrar: sólo las analogías que tengan todas las palabras en todos los embeddings"
   ]
  },
  {
   "cell_type": "code",
   "execution_count": 127,
   "metadata": {},
   "outputs": [],
   "source": [
    "# Filtrar filas que tengan todas las palabras en todos los embeddings\n",
    "\n",
    "# \"all\" combina los valores booleanos de word in e.key_to_index, para todos los embeddings e\n",
    "# luego, se forma un valor para cada fila de cada una de las 4 columnas\n",
    "columns = ['cueEjemplo', 'targetEjemplo','cue','response']\n",
    "filtro = [ [ all(word in e.key_to_index  for e in lista_de_Embeddings) for word in analogias_df[column]] for column in columns]\n",
    "# me quedo sólo con las que tienen todas las palabras en todos los embeddings\n",
    "filtro = [a & b & c & d for a,b,c,d in zip(filtro[0],filtro[1],filtro[2],filtro[3])]\n",
    "\n",
    "analogias_df = analogias_df[filtro]"
   ]
  },
  {
   "cell_type": "markdown",
   "metadata": {},
   "source": [
    "## Calculo una vez las predicciones, K=25"
   ]
  },
  {
   "cell_type": "code",
   "execution_count": 129,
   "metadata": {},
   "outputs": [],
   "source": [
    "#from mis_funciones import metricas_topK, calcular_predicciones\n",
    "\n",
    "K_fijo = 25\n",
    "todas_predicciones = [calcular_predicciones(e, analogias_df, K_fijo) for e in lista_de_Embeddings] \n",
    "# es una lista de listas, cada lista en todas_predicciones contiene las predicciones generadas para cada embedding en específico\n",
    "# Se itera sobre cada modelo de embedding (e) en lista_de_Embeddings y se llama a la función calcular_predicciones con ese modelo, el df analogias_df y el valor de K_fijo\n",
    "# Se generan predicciones para cada fila en analogias_df utilizando el embedding \n",
    "\n"
   ]
  },
  {
   "cell_type": "markdown",
   "metadata": {},
   "source": [
    "### Pero luego calculo varios valores de K, simplemente recortando la lista de predicciones"
   ]
  },
  {
   "cell_type": "code",
   "execution_count": 130,
   "metadata": {},
   "outputs": [
    {
     "name": "stdout",
     "output_type": "stream",
     "text": [
      "59\n",
      "59\n",
      "59\n",
      "59\n",
      "59\n",
      "59\n",
      "59\n",
      "59\n",
      "59\n",
      "59\n"
     ]
    },
    {
     "name": "stderr",
     "output_type": "stream",
     "text": [
      "/tmp/ipykernel_141644/918691228.py:19: SettingWithCopyWarning: \n",
      "A value is trying to be set on a copy of a slice from a DataFrame.\n",
      "Try using .loc[row_indexer,col_indexer] = value instead\n",
      "\n",
      "See the caveats in the documentation: https://pandas.pydata.org/pandas-docs/stable/user_guide/indexing.html#returning-a-view-versus-a-copy\n",
      "  analogias_df['response'] = analogias_df['response'].fillna('') # se llenan los valores nulos en la columna 'response'\n",
      "/tmp/ipykernel_141644/918691228.py:20: SettingWithCopyWarning: \n",
      "A value is trying to be set on a copy of a slice from a DataFrame.\n",
      "Try using .loc[row_indexer,col_indexer] = value instead\n",
      "\n",
      "See the caveats in the documentation: https://pandas.pydata.org/pandas-docs/stable/user_guide/indexing.html#returning-a-view-versus-a-copy\n",
      "  analogias_df['response'] = analogias_df['response'].apply(lambda x: str(x)) # chequeamos de que todos los valores sean strings\n"
     ]
    }
   ],
   "source": [
    "# en base aun únic cálculo de predicciones, calcular las métricas para diferentes valores de K\n",
    "Ks = [5, 10, 15, 20, 25]\n",
    "topK_metricas = [[metricas_topK(prediccion, analogias_df,K)  for K in Ks] for prediccion in todas_predicciones]\n",
    "# lista que almacena las métricas calculadas por metricas_topK para cada conjunto de predicciones en todas_predicciones\n",
    "# Se itera sobre cada conjunto de predicciones en todas_predicciones y se llama a la función metricas_topK con ese conjunto de predicciones y el df analogias_df. \n",
    "# Se calcula la métrica de precisión top-K para cada conjunto de predicciones y devuelve una lista de estas métricas, cada valor representa la precisión top-K para un modelo de embedding específico\n",
    "\n"
   ]
  },
  {
   "cell_type": "code",
   "execution_count": null,
   "metadata": {},
   "outputs": [],
   "source": []
  },
  {
   "cell_type": "code",
   "execution_count": 133,
   "metadata": {},
   "outputs": [
    {
     "data": {
      "image/png": "[encoded data removed]",
      "text/plain": [
       "<Figure size 1200x600 with 1 Axes>"
      ]
     },
     "metadata": {},
     "output_type": "display_data"
    }
   ],
   "source": [
    "# datos para el valor de K fijo\n",
    "#data_fijo = topK_metricas_fijo\n",
    "\n",
    "# Nombres de embeddings\n",
    "lista_de_Nombres = [\"WIKI\", \"SUC\", \"SWOW\", \"SBWC\", \"Glove\"]\n",
    "\n",
    "# Colores para plotear\n",
    "colors = ['red', 'blue','green','black','pink']\n",
    "\n",
    "\n",
    "# marcadores para usar\n",
    "markers = ['o', '^', 's','+','x']  # Markers for each category\n",
    "\n",
    "\n",
    "\n",
    "# numero de embeddings\n",
    "num_embeddings = len(lista_de_Nombres)\n",
    "\n",
    "#width = 0.2\n",
    "\n",
    "# Crear la figura para los datos del valor de K fijo\n",
    "fig, ax = plt.subplots(figsize=(12, 6))\n",
    "\n",
    "# valores de x para cada barra\n",
    "x = np.arange(num_embeddings)\n",
    "\n",
    "#bar = ax.bar(x, data_fijo, width, color='pink', edgecolor='black')\n",
    "for i, emb in enumerate(lista_de_Nombres):\n",
    "    plt.plot(Ks, topK_metricas[i], color=colors[i], label=lista_de_Nombres[i],marker=markers[i])\n",
    "\n",
    "\n",
    "# Etiquetas \n",
    "ax.set_xlabel('K', fontsize=14)\n",
    "ax.set_ylabel('Valor de Métrica TopK', fontsize=14)\n",
    "ax.set_title(f'Métricas topK para K variable', fontsize=16)\n",
    "#ax.set_xticks(x)\n",
    "#ax.set_xticklabels(lista_de_Nombres, rotation=45, fontsize=12)\n",
    "\n",
    "# Limitar el eje y entre 0 y .6\n",
    "ax.set_ylim([0, .6])\n",
    "\n",
    "ax.grid(True, which='both', axis='y', linestyle='--', linewidth=0.5)\n",
    "ax.tick_params(axis='both', labelsize=14)\n",
    "\n",
    "plt.tight_layout()\n",
    "plt.legend()\n",
    "plt.show()\n"
   ]
  }
 ],
 "metadata": {
  "kernelspec": {
   "display_name": "Python 3 (ipykernel)",
   "language": "python",
   "name": "python3"
  },
  "language_info": {
   "codemirror_mode": {
    "name": "ipython",
    "version": 3
   },
   "file_extension": ".py",
   "mimetype": "text/x-python",
   "name": "python",
   "nbconvert_exporter": "python",
   "pygments_lexer": "ipython3",
   "version": "3.8.16"
  }
 },
 "nbformat": 4,
 "nbformat_minor": 2
}
