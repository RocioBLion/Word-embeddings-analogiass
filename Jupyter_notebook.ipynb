{
 "cells": [
  {
   "cell_type": "code",
   "execution_count": 2,
   "metadata": {},
   "outputs": [
    {
     "data": {
      "text/html": [
       "<div>\n",
       "<style scoped>\n",
       "    .dataframe tbody tr th:only-of-type {\n",
       "        vertical-align: middle;\n",
       "    }\n",
       "\n",
       "    .dataframe tbody tr th {\n",
       "        vertical-align: top;\n",
       "    }\n",
       "\n",
       "    .dataframe thead th {\n",
       "        text-align: right;\n",
       "    }\n",
       "</style>\n",
       "<table border=\"1\" class=\"dataframe\">\n",
       "  <thead>\n",
       "    <tr style=\"text-align: right;\">\n",
       "      <th></th>\n",
       "      <th>cueEjemplo</th>\n",
       "      <th>targetEjemplo</th>\n",
       "      <th>cue</th>\n",
       "      <th>response</th>\n",
       "      <th>count</th>\n",
       "      <th>rank</th>\n",
       "      <th>porcentaje</th>\n",
       "    </tr>\n",
       "  </thead>\n",
       "  <tbody>\n",
       "    <tr>\n",
       "      <th>0</th>\n",
       "      <td>bailarín</td>\n",
       "      <td>bailar</td>\n",
       "      <td>albañil</td>\n",
       "      <td>construir</td>\n",
       "      <td>1</td>\n",
       "      <td>1.0</td>\n",
       "      <td>100.0</td>\n",
       "    </tr>\n",
       "    <tr>\n",
       "      <th>1</th>\n",
       "      <td>pistola</td>\n",
       "      <td>bala</td>\n",
       "      <td>arco</td>\n",
       "      <td>flecha</td>\n",
       "      <td>1</td>\n",
       "      <td>1.0</td>\n",
       "      <td>100.0</td>\n",
       "    </tr>\n",
       "    <tr>\n",
       "      <th>2</th>\n",
       "      <td>tren</td>\n",
       "      <td>vías</td>\n",
       "      <td>auto</td>\n",
       "      <td>carretera</td>\n",
       "      <td>1</td>\n",
       "      <td>1.0</td>\n",
       "      <td>100.0</td>\n",
       "    </tr>\n",
       "    <tr>\n",
       "      <th>3</th>\n",
       "      <td>pez</td>\n",
       "      <td>submarino</td>\n",
       "      <td>ave</td>\n",
       "      <td>avión</td>\n",
       "      <td>1</td>\n",
       "      <td>1.0</td>\n",
       "      <td>100.0</td>\n",
       "    </tr>\n",
       "    <tr>\n",
       "      <th>4</th>\n",
       "      <td>rojo</td>\n",
       "      <td>ira</td>\n",
       "      <td>azul</td>\n",
       "      <td>tristeza</td>\n",
       "      <td>1</td>\n",
       "      <td>1.0</td>\n",
       "      <td>100.0</td>\n",
       "    </tr>\n",
       "  </tbody>\n",
       "</table>\n",
       "</div>"
      ],
      "text/plain": [
       "  cueEjemplo targetEjemplo      cue   response  count  rank  porcentaje\n",
       "0   bailarín        bailar  albañil  construir      1   1.0       100.0\n",
       "1    pistola          bala     arco     flecha      1   1.0       100.0\n",
       "2       tren          vías     auto  carretera      1   1.0       100.0\n",
       "3        pez     submarino      ave      avión      1   1.0       100.0\n",
       "4       rojo           ira     azul   tristeza      1   1.0       100.0"
      ]
     },
     "execution_count": 2,
     "metadata": {},
     "output_type": "execute_result"
    }
   ],
   "source": [
    "# Importación de librerias.\n",
    "import pandas as pd\n",
    "from gensim.models import KeyedVectors\n",
    "import numpy as np\n",
    "import matplotlib.pyplot as plt\n",
    "\n",
    "# Carga del dataset. \n",
    "analogias_df = pd.read_csv('analogies_answers.csv')\n",
    "analogias_df.head()"
   ]
  },
  {
   "cell_type": "code",
   "execution_count": 3,
   "metadata": {},
   "outputs": [],
   "source": [
    "embeddings_WIKI = KeyedVectors.load_word2vec_format('embeddings/wiki.es.vec', limit=None)\n",
    "embeddings_SUC = KeyedVectors.load_word2vec_format('embeddings/embeddings-l-model.vec', limit=None)\n",
    "embeddings_SWOW = KeyedVectors.load_word2vec_format('embeddings/swow.embedding.was.26-04-2022.vec', limit=None)\n",
    "lower_embeddings_SWOW = KeyedVectors(vector_size=embeddings_SWOW.vector_size)\n",
    "embeddings_SBWC = KeyedVectors.load_word2vec_format('embeddings/SBW-vectors-300-min5.txt', limit=None)\n",
    "embeddings_Glove = KeyedVectors.load_word2vec_format('embeddings/glove-sbwc.i25.vec', limit=None)"
   ]
  },
  {
   "cell_type": "code",
   "execution_count": 4,
   "metadata": {},
   "outputs": [],
   "source": [
    "# Embedding SWOW pasado a minusculas \n",
    "\n",
    "# Vectores y palabras del SWOW.\n",
    "palabras = list(embeddings_SWOW.key_to_index.keys())\n",
    "vectores = list(embeddings_SWOW.vectors)\n",
    "\n",
    "# Convertir todas las palabras a minúsculas.\n",
    "palabras_minusculas = [palabra.lower() for palabra in palabras]\n",
    "\n",
    "# Creación de un nuevo modelo SWOW con las palabras y vectores en minúsculas. \n",
    "lower_embeddings_SWOW = KeyedVectors(vector_size=embeddings_SWOW.vector_size)\n",
    "lower_embeddings_SWOW.add_vectors(palabras_minusculas, vectores)"
   ]
  },
  {
   "cell_type": "code",
   "execution_count": 5,
   "metadata": {},
   "outputs": [],
   "source": [
    "lista_de_Embeddings = [embeddings_WIKI, embeddings_SUC, lower_embeddings_SWOW, embeddings_SBWC, embeddings_Glove]"
   ]
  },
  {
   "cell_type": "code",
   "execution_count": 6,
   "metadata": {},
   "outputs": [],
   "source": [
    "# Calculo de la frecuencia de las combinaciones de 'cue' y 'response' y sus rangos para identificar las analogías más relevantes\n",
    "analogias_df['count'] = analogias_df.groupby(['cue','response'])['response'].transform('count')\n",
    "analogias_df['rank'] = analogias_df.groupby('cue')['count'].rank(ascending=False, method='min')\n",
    "\n",
    "# Calculo del porcentaje de frecuencia de cada combinación en relación con el número total de respuestas para ese 'cue'.\n",
    "total_respuestas = analogias_df.groupby('cue')['response'].transform('count')\n",
    "analogias_df['porcentaje'] = (analogias_df['count'] / total_respuestas) * 100\n",
    "\n",
    "# Indices de filas que tienen rango minimo (rango 1).\n",
    "idx = analogias_df.groupby(['cue'])['rank'].idxmin()\n",
    "\n",
    "# Me quedo unicamente con las filas que tienen las combinaciones más relevantes según el rango.\n",
    "analogias_df = analogias_df.loc[idx]\n",
    "\n",
    "# Se guarda el DataFrame modificado en un archivo CSV.\n",
    "analogias_df.to_csv('analogies_answers.csv', index=False)\n",
    "\n",
    "# Se pasan todas las palabras a minúsculas. \n",
    "analogias_df['cueEjemplo'] = analogias_df['cueEjemplo'].apply(lambda x: str(x).lower())\n",
    "analogias_df['targetEjemplo'] = analogias_df['targetEjemplo'].apply(lambda x: str(x).lower())\n",
    "analogias_df['cue'] = analogias_df['cue'].apply(lambda x: str(x).lower())\n",
    "\n",
    "# Se realizan los reemplazos necesarios. \n",
    "analogias_df['cueEjemplo'] = analogias_df['cueEjemplo'].str.replace('lápiz labial', 'labial').replace('estados unidos', 'eeuu').replace('buenos aires', 'bsas')\n",
    "analogias_df['targetEjemplo'] = analogias_df['targetEjemplo'].str.replace('lápiz labial', 'labial').replace('estados unidos', 'eeuu').replace('buenos aires', 'bsas')\n",
    "analogias_df['cue'] = analogias_df['cue'].str.replace('lápiz labial', 'labial').replace('estados unidos', 'eeuu').replace('buenos aires', 'bsas')\n"
   ]
  },
  {
   "cell_type": "markdown",
   "metadata": {},
   "source": [
    "## Filtrar: sólo las analogías que tengan todas las palabras en todos los embeddings"
   ]
  },
  {
   "cell_type": "code",
   "execution_count": 7,
   "metadata": {},
   "outputs": [],
   "source": [
    "# Filtrar filas que tengan todas las palabras en todos los embeddings\n",
    "\n",
    "# \"all\" combina los valores booleanos de word in e.key_to_index, para todos los embeddings e\n",
    "# luego, se forma un valor para cada fila de cada una de las 4 columnas\n",
    "columns = ['cueEjemplo', 'targetEjemplo','cue','response']\n",
    "filtro = [ [ all(word in e.key_to_index  for e in lista_de_Embeddings) for word in analogias_df[column]] for column in columns]\n",
    "# me quedo sólo con las que tienen todas las palabras en todos los embeddings\n",
    "filtro = [a & b & c & d for a,b,c,d in zip(filtro[0],filtro[1],filtro[2],filtro[3])]\n",
    "\n",
    "analogias_df = analogias_df[filtro]"
   ]
  },
  {
   "cell_type": "markdown",
   "metadata": {},
   "source": [
    "## Calculo una vez las predicciones, K=25"
   ]
  },
  {
   "cell_type": "code",
   "execution_count": 8,
   "metadata": {},
   "outputs": [],
   "source": [
    "from mis_funciones import metricas_topK, calcular_predicciones\n",
    "\n",
    "K_fijo = 25\n",
    "todas_predicciones = [calcular_predicciones(e, analogias_df, K_fijo) for e in lista_de_Embeddings] \n",
    "# es una lista de listas, cada lista en todas_predicciones contiene las predicciones generadas para cada embedding en específico\n",
    "# Se itera sobre cada modelo de embedding (e) en lista_de_Embeddings y se llama a la función calcular_predicciones con ese modelo, el df analogias_df y el valor de K_fijo\n",
    "# Se generan predicciones para cada fila en analogias_df utilizando el embedding "
   ]
  },
  {
   "cell_type": "markdown",
   "metadata": {},
   "source": [
    "### Pero luego calculo varios valores de K, simplemente recortando la lista de predicciones"
   ]
  },
  {
   "cell_type": "code",
   "execution_count": 9,
   "metadata": {},
   "outputs": [
    {
     "name": "stdout",
     "output_type": "stream",
     "text": [
      "Métricas top-K =[5, 10, 15, 20, 25]: [[0.05084745762711865, 0.05084745762711865, 0.06779661016949153, 0.06779661016949153, 0.1016949152542373], [0.06779661016949153, 0.1016949152542373, 0.13559322033898305, 0.15254237288135594, 0.1864406779661017], [0.0847457627118644, 0.1694915254237288, 0.1864406779661017, 0.2711864406779661, 0.3389830508474576], [0.05084745762711865, 0.06779661016949153, 0.1016949152542373, 0.1016949152542373, 0.11864406779661017], [0.11864406779661017, 0.22033898305084745, 0.2542372881355932, 0.2711864406779661, 0.2711864406779661]]\n"
     ]
    }
   ],
   "source": [
    "# en base aun únic cálculo de predicciones, calcular las métricas para diferentes valores de K\n",
    "Ks = [5, 10, 15, 20, 25]\n",
    "topK_metricas = [[metricas_topK(prediccion, analogias_df,K)  for K in Ks] for prediccion in todas_predicciones]\n",
    "# lista que almacena las métricas calculadas por metricas_topK para cada conjunto de predicciones en todas_predicciones\n",
    "# Se itera sobre cada conjunto de predicciones en todas_predicciones y se llama a la función metricas_topK con ese conjunto de predicciones y el df analogias_df. \n",
    "# Se calcula la métrica de precisión top-K para cada conjunto de predicciones y devuelve una lista de estas métricas, cada valor representa la precisión top-K para un modelo de embedding específico\n",
    "print(f\"Métricas top-K ={Ks}: {topK_metricas}\")\n"
   ]
  },
  {
   "cell_type": "code",
   "execution_count": 9,
   "metadata": {},
   "outputs": [
    {
     "data": {
      "image/png": "[encoded data removed]",
      "text/plain": [
       "<Figure size 1200x600 with 1 Axes>"
      ]
     },
     "metadata": {},
     "output_type": "display_data"
    }
   ],
   "source": [
    "# Nombres de embeddings\n",
    "lista_de_Nombres = [\"WIKI\", \"SUC\", \"SWOW\", \"SBWC\", \"Glove\"]\n",
    "\n",
    "# Colores para plotear\n",
    "colors = ['red', 'orange','purple', 'black', 'pink']\n",
    "\n",
    "\n",
    "# marcadores para usar\n",
    "markers = ['o', '^', 's','+','x']  # Markers for each category\n",
    "\n",
    "# numero de embeddings\n",
    "num_embeddings = len(lista_de_Nombres)\n",
    "\n",
    "#width = 0.2\n",
    "\n",
    "# Crear la figura para los datos del valor de K fijo\n",
    "fig, ax = plt.subplots(figsize=(12, 6))\n",
    "\n",
    "# valores de x para cada barra\n",
    "x = np.arange(num_embeddings)\n",
    "\n",
    "#bar = ax.bar(x, data_fijo, width, color='pink', edgecolor='black')\n",
    "for i, emb in enumerate(lista_de_Nombres):\n",
    "    plt.plot(Ks, topK_metricas[i], color=colors[i], label=lista_de_Nombres[i],marker=markers[i])\n",
    "\n",
    "# Etiquetas \n",
    "ax.set_xlabel('Valores de K', fontsize=14)\n",
    "ax.set_ylabel('Valor de Métrica TopK', fontsize=14)\n",
    "ax.set_title(f'Métricas topK para K variable', fontsize=16)\n",
    "#ax.set_xticks(x)\n",
    "#ax.set_xticklabels(lista_de_Nombres, rotation=45, fontsize=12)\n",
    "\n",
    "# Limitar el eje y entre 0 y .6\n",
    "ax.set_ylim([0, .6])\n",
    "\n",
    "ax.grid(True, which='both', axis='y', linestyle='--', linewidth=0.5)\n",
    "ax.tick_params(axis='both', labelsize=14)\n",
    "\n",
    "plt.tight_layout()\n",
    "plt.legend()\n",
    "plt.show()"
   ]
  },
  {
   "cell_type": "code",
   "execution_count": 12,
   "metadata": {},
   "outputs": [
    {
     "data": {
      "text/html": [
       "<div>\n",
       "<style scoped>\n",
       "    .dataframe tbody tr th:only-of-type {\n",
       "        vertical-align: middle;\n",
       "    }\n",
       "\n",
       "    .dataframe tbody tr th {\n",
       "        vertical-align: top;\n",
       "    }\n",
       "\n",
       "    .dataframe thead th {\n",
       "        text-align: right;\n",
       "    }\n",
       "</style>\n",
       "<table border=\"1\" class=\"dataframe\">\n",
       "  <thead>\n",
       "    <tr style=\"text-align: right;\">\n",
       "      <th></th>\n",
       "      <th>palabra</th>\n",
       "      <th>hiperonimo</th>\n",
       "    </tr>\n",
       "  </thead>\n",
       "  <tbody>\n",
       "    <tr>\n",
       "      <th>0</th>\n",
       "      <td>hormiga</td>\n",
       "      <td>insecto</td>\n",
       "    </tr>\n",
       "    <tr>\n",
       "      <th>1</th>\n",
       "      <td>castor</td>\n",
       "      <td>roedor</td>\n",
       "    </tr>\n",
       "    <tr>\n",
       "      <th>2</th>\n",
       "      <td>abeja</td>\n",
       "      <td>insecto</td>\n",
       "    </tr>\n",
       "    <tr>\n",
       "      <th>3</th>\n",
       "      <td>bufalo</td>\n",
       "      <td>bovino</td>\n",
       "    </tr>\n",
       "    <tr>\n",
       "      <th>4</th>\n",
       "      <td>mariposa</td>\n",
       "      <td>insecto</td>\n",
       "    </tr>\n",
       "  </tbody>\n",
       "</table>\n",
       "</div>"
      ],
      "text/plain": [
       "    palabra hiperonimo\n",
       "0   hormiga    insecto\n",
       "1    castor     roedor\n",
       "2     abeja    insecto\n",
       "3    bufalo     bovino\n",
       "4  mariposa    insecto"
      ]
     },
     "execution_count": 12,
     "metadata": {},
     "output_type": "execute_result"
    }
   ],
   "source": [
    "hiperonimos_df = pd.read_csv('hiperonimos_animales.csv')\n",
    "hiperonimos_df.head()"
   ]
  },
  {
   "cell_type": "code",
   "execution_count": 13,
   "metadata": {},
   "outputs": [],
   "source": [
    "lista_de_Embeddings = [embeddings_WIKI, embeddings_SUC, lower_embeddings_SWOW, embeddings_SBWC, embeddings_Glove]"
   ]
  },
  {
   "cell_type": "code",
   "execution_count": 11,
   "metadata": {},
   "outputs": [],
   "source": [
    "# Filtrado de palabras en todos los embeddings\n",
    "hiperonimos_df = hiperonimos_df.dropna()\n",
    "filtro_palabra = [all(word in e.key_to_index for e in lista_de_Embeddings) for word in hiperonimos_df['palabra']]\n",
    "filtro_hiperonimo = [all(word in e.key_to_index for e in lista_de_Embeddings) for word in hiperonimos_df['hiperonimo']]\n",
    "\n",
    "# Combinando ambos filtros\n",
    "filtro = [a and b for a, b in zip(filtro_palabra, filtro_hiperonimo)]\n",
    "\n",
    "hiperonimos_df = hiperonimos_df[filtro]"
   ]
  },
  {
   "cell_type": "code",
   "execution_count": 20,
   "metadata": {},
   "outputs": [],
   "source": [
    "palabras_no_encontradas2 = []\n",
    "\n",
    "def calcular_predicciones_hiperonimos(embedding, hiperonimos_df, K_fijo):\n",
    "    predicciones = []\n",
    "    for index, row in hiperonimos_df.iterrows():\n",
    "        palabra = row['palabra']\n",
    "\n",
    "        try:\n",
    "            resultado = embedding.most_similar(positive=[palabra], topn=K_fijo)\n",
    "            predicciones.append([palabra for palabra, _ in resultado])\n",
    "        except KeyError as e:\n",
    "            print(f\"Una de las palabras no está en el embedding: {e}\")\n",
    "            predicciones.append([])\n",
    "            if palabra not in palabras_no_encontradas2:\n",
    "                palabras_no_encontradas2.append(palabra)\n",
    "    return predicciones\n",
    "\n"
   ]
  },
  {
   "cell_type": "code",
   "execution_count": 21,
   "metadata": {},
   "outputs": [],
   "source": [
    "def metricas_topK_hiperonimos(predicciones, hiperonimos_df, K):\n",
    "    topK_metricas = []\n",
    "    for i, prediccion in enumerate(predicciones):\n",
    "        hiperonimo_real = hiperonimos_df.iloc[i]['hiperonimo'].lower()\n",
    "        topK_metricas.append(int(hiperonimo_real in prediccion[0:K]))\n",
    "    return np.mean(topK_metricas)\n"
   ]
  },
  {
   "cell_type": "code",
   "execution_count": 22,
   "metadata": {},
   "outputs": [
    {
     "name": "stdout",
     "output_type": "stream",
     "text": [
      "Una de las palabras no está en el embedding: \"Key 'bufalo' not present in vocabulary\"\n",
      "Una de las palabras no está en el embedding: \"Key 'chimpance' not present in vocabulary\"\n",
      "Una de las palabras no está en el embedding: \"Key 'chinchilla' not present in vocabulary\"\n",
      "Una de las palabras no está en el embedding: \"Key 'aguila' not present in vocabulary\"\n",
      "Una de las palabras no está en el embedding: \"Key 'halcon' not present in vocabulary\"\n",
      "Una de las palabras no está en el embedding: \"Key 'chimpance' not present in vocabulary\"\n",
      "Una de las palabras no está en el embedding: \"Key 'chimpance' not present in vocabulary\"\n",
      "Métricas top-K =[5, 10, 15, 20, 25]: [[0.0, 0.05263157894736842, 0.05263157894736842, 0.05263157894736842, 0.05263157894736842], [0.0, 0.05263157894736842, 0.10526315789473684, 0.21052631578947367, 0.2631578947368421], [0.3157894736842105, 0.3684210526315789, 0.5263157894736842, 0.5789473684210527, 0.5789473684210527], [0.0, 0.0, 0.0, 0.0, 0.0], [0.0, 0.05263157894736842, 0.05263157894736842, 0.05263157894736842, 0.05263157894736842]]\n"
     ]
    }
   ],
   "source": [
    "todas_predicciones_hiperonimos = [calcular_predicciones_hiperonimos(e, hiperonimos_df, K_fijo) for e in lista_de_Embeddings]\n",
    "\n",
    "topK_metricas_hiperonimos = [[metricas_topK_hiperonimos(prediccion, hiperonimos_df, K) for K in Ks] for prediccion in todas_predicciones_hiperonimos]\n",
    "\n",
    "print(f\"Métricas top-K ={Ks}: {topK_metricas_hiperonimos}\")"
   ]
  }
 ],
 "metadata": {
  "kernelspec": {
   "display_name": "Python 3 (ipykernel)",
   "language": "python",
   "name": "python3"
  },
  "language_info": {
   "codemirror_mode": {
    "name": "ipython",
    "version": 3
   },
   "file_extension": ".py",
   "mimetype": "text/x-python",
   "name": "python",
   "nbconvert_exporter": "python",
   "pygments_lexer": "ipython3",
   "version": "3.10.11"
  }
 },
 "nbformat": 4,
 "nbformat_minor": 2
}
